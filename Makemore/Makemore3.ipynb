{
 "cells": [
  {
   "cell_type": "code",
   "execution_count": 1,
   "id": "43400a1c",
   "metadata": {},
   "outputs": [],
   "source": [
    "import torch\n",
    "import torch.nn.functional as F\n",
    "import matplotlib.pyplot as plt\n",
    "import numpy as np\n",
    "import random\n",
    "words = open(\"names.txt\", 'r').read().splitlines()"
   ]
  },
  {
   "cell_type": "code",
   "execution_count": 2,
   "id": "ef5ead44",
   "metadata": {},
   "outputs": [],
   "source": [
    "N = torch.zeros((27,27), dtype=torch.int32)\n",
    "chars = sorted(list(set(''.join(words))))\n",
    "c_to_i = {c:i+1 for i,c in enumerate(chars)}\n",
    "c_to_i['.'] = 0\n",
    "i_to_c = {i+1:c for i,c in enumerate(chars)}\n",
    "i_to_c[0] = '.'"
   ]
  },
  {
   "cell_type": "code",
   "execution_count": 3,
   "id": "b42bf3f6",
   "metadata": {},
   "outputs": [],
   "source": [
    "def generate_dataset(word_list, block_length):\n",
    "    X, Y = [], []\n",
    "\n",
    "    for word in word_list:\n",
    "        vector = [0] * block_length\n",
    "        for c in word + '.':\n",
    "            val = c_to_i[c]\n",
    "            X.append(vector)\n",
    "            Y.append(val)\n",
    "            vector = vector[1:] + [val]\n",
    "\n",
    "    X = torch.tensor(X)\n",
    "    Y = torch.tensor(Y)\n",
    "    \n",
    "    return X, Y"
   ]
  },
  {
   "cell_type": "code",
   "execution_count": 4,
   "id": "f9aff1ef",
   "metadata": {},
   "outputs": [],
   "source": [
    "block_size = 3\n",
    "random.shuffle(words)\n",
    "\n",
    "n1 = int(0.8 * len(words))\n",
    "n2 = int(0.9 * len(words))\n",
    "X_train, Y_train = generate_dataset(words[:n1], block_size)\n",
    "X_val, Y_val = generate_dataset(words[n1:n2], block_size)\n",
    "X_test, Y_test = generate_dataset(words[n2:], block_size)"
   ]
  },
  {
   "cell_type": "code",
   "execution_count": 142,
   "id": "77f4126a",
   "metadata": {},
   "outputs": [],
   "source": [
    "class Linear:\n",
    "    def __init__(self, fan_in, fan_out, has_bias=True):\n",
    "        self.weights = torch.randn([fan_in, fan_out]) / fan_in ** 0.5\n",
    "        self.bias = torch.zeros([1, fan_out]) if has_bias else None\n",
    "    \n",
    "    def __call__(self, x):\n",
    "        self.out = x @ self.weights\n",
    "        if self.bias != None:\n",
    "            self.out += self.bias \n",
    "        return self.out\n",
    "    \n",
    "    def parameters(self):\n",
    "        if self.bias != None:\n",
    "            return [self.weights] + self.bias\n",
    "        return [self.weights]"
   ]
  },
  {
   "cell_type": "code",
   "execution_count": 161,
   "id": "4674b1d4",
   "metadata": {},
   "outputs": [],
   "source": [
    "class BatchNorm1D:\n",
    "    def __init__(self, fan_in, epsilon=1e-5, momentum=0.99):\n",
    "        self.epsilon = epsilon\n",
    "        self.momentum = momentum\n",
    "        self.training = True\n",
    "        \n",
    "        self.gamma = torch.ones([1, fan_in])\n",
    "        self.beta = torch.zeros([1, fan_in])\n",
    "        \n",
    "        self.moving_average = torch.zeros([1, fan_in])\n",
    "        self. moving_std = torch.ones([1, fan_in])\n",
    "        \n",
    "    def __call__(self, x):\n",
    "        if self.training:\n",
    "            xmean = x.mean(0, True)\n",
    "            xstd = x.std(0, True)\n",
    "        else:\n",
    "            xmean = self.moving_average\n",
    "            xstd = self.moving_std\n",
    "            \n",
    "        self.out = self.gamma * (x - xmean) / (xstd + self.epsilon) + self.beta\n",
    "    \n",
    "        if self.training:\n",
    "            with torch.no_grad():\n",
    "                self.moving_average = momentum * self.moving_average + (1 - self.momentum) * xmean\n",
    "                self.moving_std = momentum * self.moving_std + (1 - self.momentum) * xstd\n",
    "        \n",
    "        return self.out\n",
    "    \n",
    "    def parameters(self):\n",
    "        return [self.gamma, self.beta]"
   ]
  },
  {
   "cell_type": "code",
   "execution_count": 170,
   "id": "941b00c3",
   "metadata": {},
   "outputs": [],
   "source": [
    "class Tanh:\n",
    "    def __call__(self, x):\n",
    "        self.out = torch.tanh(x)\n",
    "        return self.out\n",
    "    \n",
    "    def parameters(self):\n",
    "        return []"
   ]
  },
  {
   "cell_type": "code",
   "execution_count": 149,
   "id": "55412346",
   "metadata": {},
   "outputs": [
    {
     "data": {
      "text/plain": [
       "tensor([[-0.4170,  0.3877, -0.6296, -0.5448, -0.4513,  1.1802, -0.1889,  1.0407],\n",
       "        [ 0.5638,  0.5003,  0.5314, -0.6617, -0.4820, -0.9803,  0.6434,  1.1088],\n",
       "        [-1.8971,  0.0853, -0.9836, -1.4692,  0.7974,  2.0882, -1.0930, -0.6465]])"
      ]
     },
     "execution_count": 149,
     "metadata": {},
     "output_type": "execute_result"
    }
   ],
   "source": [
    "#weights: fan_in, fan_out\n",
    "#bias:         1, fan_out\n",
    "test = Linear(7, 8)\n",
    "#test(torch.randn([3,7]))\n",
    "z = torch.randn([3,7])\n",
    "test(z)"
   ]
  },
  {
   "cell_type": "code",
   "execution_count": 105,
   "id": "ba635db9",
   "metadata": {},
   "outputs": [],
   "source": [
    "num_emb = 10\n",
    "num_neurons1 = 200\n",
    "\n",
    "C = torch.randn([27,num_emb])\n",
    "\n",
    "W1 = torch.randn([num_emb * block_size, num_neurons1]) * (5/3) / 10**0.5\n",
    "b1 = torch.randn(num_neurons1) * 0.01\n",
    "\n",
    "W2 = torch.randn((num_neurons1,27)) * 0.01\n",
    "b2 = torch.randn(27) * 0\n",
    "\n",
    "bngain = torch.ones([1,num_neurons1])\n",
    "bnbias = torch.zeros([1, num_neurons1])\n",
    "\n",
    "moving_average = torch.zeros([1, num_neurons1])\n",
    "moving_std = torch.ones([1, num_neurons1])\n",
    "\n",
    "parameters = [C, W1, b1, W2, b2, bngain, bnbias]\n",
    "for p in parameters:\n",
    "    p.requires_grad = True"
   ]
  },
  {
   "cell_type": "code",
   "execution_count": 111,
   "id": "bab7f6dd",
   "metadata": {},
   "outputs": [],
   "source": [
    "loss_t = []\n",
    "momentum = 0.999\n",
    "epsilon = 1e-5\n",
    "\n",
    "for i in range(50000):\n",
    "    x_inds = torch.randint(0, X_train.shape[0], (32,))\n",
    "    \n",
    "    raw_emb = C[X_train[x_inds]]\n",
    "    emb = raw_emb.view(raw_emb.shape[0], num_emb * block_size)\n",
    "    h1 = torch.tanh(emb @ W1 + b1)\n",
    "    bnmeani = h1.mean(0, True)\n",
    "    bnstdi = h1.std(0, True)\n",
    "    h1 = bngain * (h1 - bnmeani) / (bnstdi + epsilon) + bnbias\n",
    "    logits = h1 @ W2 + b2\n",
    "    loss = F.cross_entropy(logits, Y_train[x_inds])\n",
    "    \n",
    "    with torch.no_grad():\n",
    "        moving_average = momentum * moving_average + (1 - momentum) * bnmeani\n",
    "        moving_std = momentum * moving_std + (1 - momentum) * bnstdi\n",
    "    \n",
    "    #loss_t.append(loss.item())\n",
    "    \n",
    "    for p in parameters:\n",
    "        p.grad = None\n",
    "        \n",
    "    loss.backward()\n",
    "    \n",
    "    for p in parameters:\n",
    "        #p.data += -lrs[i] * p.grad\n",
    "        p.data += -0.01 * p.grad"
   ]
  },
  {
   "cell_type": "code",
   "execution_count": 112,
   "id": "1f279931",
   "metadata": {},
   "outputs": [],
   "source": [
    "with torch.no_grad():\n",
    "    raw_emb = C[X_train]\n",
    "    emb = raw_emb.view(raw_emb.shape[0], num_emb * block_size)\n",
    "    h1 = torch.tanh(emb @ W1 + b1)\n",
    "    mu = h1.mean(0, True) \n",
    "    sigma = h1.std(0, True)"
   ]
  },
  {
   "cell_type": "code",
   "execution_count": 113,
   "id": "e1605fe1",
   "metadata": {},
   "outputs": [],
   "source": [
    "@torch.no_grad()\n",
    "def test(split):\n",
    "    X_data, Y_data = {\n",
    "        \"test\" : (X_test, Y_test),\n",
    "        \"val\": (X_val, Y_val)\n",
    "    }[split]\n",
    "    raw_emb = C[X_data]\n",
    "    emb = raw_emb.view(raw_emb.shape[0], num_emb * block_size)\n",
    "    h1 = torch.tanh(emb @ W1 + b1)\n",
    "    h1 = bngain * (h1 - moving_average) / moving_std + bnbias\n",
    "    logits = h1 @ W2 + b2\n",
    "    loss = F.cross_entropy(logits, Y_data)\n",
    "    \n",
    "    print(loss)"
   ]
  },
  {
   "cell_type": "code",
   "execution_count": 114,
   "id": "7b3bbfb9",
   "metadata": {},
   "outputs": [
    {
     "name": "stdout",
     "output_type": "stream",
     "text": [
      "tensor(2.1770)\n",
      "tensor(2.1896)\n"
     ]
    }
   ],
   "source": [
    "#plt.plot(lrs, loss_t)\n",
    "#plt.plot(np.arange(10000),loss_t)\n",
    "test(\"test\")\n",
    "test(\"val\")"
   ]
  },
  {
   "cell_type": "code",
   "execution_count": null,
   "id": "6bfc94eb",
   "metadata": {},
   "outputs": [],
   "source": []
  }
 ],
 "metadata": {
  "celltoolbar": "Raw Cell Format",
  "kernelspec": {
   "display_name": "Python 3 (ipykernel)",
   "language": "python",
   "name": "python3"
  },
  "language_info": {
   "codemirror_mode": {
    "name": "ipython",
    "version": 3
   },
   "file_extension": ".py",
   "mimetype": "text/x-python",
   "name": "python",
   "nbconvert_exporter": "python",
   "pygments_lexer": "ipython3",
   "version": "3.11.4"
  }
 },
 "nbformat": 4,
 "nbformat_minor": 5
}
