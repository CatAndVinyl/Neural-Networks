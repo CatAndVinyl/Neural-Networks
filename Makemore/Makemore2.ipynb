{
 "cells": [
  {
   "cell_type": "code",
   "execution_count": 190,
   "id": "43400a1c",
   "metadata": {},
   "outputs": [],
   "source": [
    "import torch\n",
    "import torch.nn.functional as F\n",
    "import matplotlib.pyplot as plt\n",
    "import numpy as np\n",
    "import random\n",
    "words = open(\"names.txt\", 'r').read().splitlines()"
   ]
  },
  {
   "cell_type": "code",
   "execution_count": 254,
   "id": "ef5ead44",
   "metadata": {},
   "outputs": [],
   "source": [
    "N = torch.zeros((27,27), dtype=torch.int32)\n",
    "chars = sorted(list(set(''.join(words))))\n",
    "c_to_i = {c:i+1 for i,c in enumerate(chars)}\n",
    "c_to_i['.'] = 0\n",
    "i_to_c = {i+1:c for i,c in enumerate(chars)}\n",
    "i_to_c[0] = '.'"
   ]
  },
  {
   "cell_type": "code",
   "execution_count": 255,
   "id": "b42bf3f6",
   "metadata": {},
   "outputs": [],
   "source": [
    "def generate_dataset(word_list):\n",
    "    block_size = 3\n",
    "    X, Y = [], []\n",
    "\n",
    "    for word in word_list:\n",
    "        vector = [0] * block_size\n",
    "        for c in word + '.':\n",
    "            val = c_to_i[c]\n",
    "            X.append(vector)\n",
    "            Y.append(val)\n",
    "            vector = vector[1:] + [val]\n",
    "\n",
    "    X = torch.tensor(X)\n",
    "    Y = torch.tensor(Y)\n",
    "    \n",
    "    return X, Y"
   ]
  },
  {
   "cell_type": "code",
   "execution_count": 256,
   "id": "f9aff1ef",
   "metadata": {},
   "outputs": [],
   "source": [
    "random.shuffle(words)\n",
    "\n",
    "n1 = int(0.8 * len(words))\n",
    "n2 = int(0.9 * len(words))\n",
    "X_train, Y_train = generate_dataset(words[:n1])\n",
    "X_val, Y_val = generate_dataset(words[n1:n2])\n",
    "X_test, Y_test = generate_dataset(words[n2:])"
   ]
  },
  {
   "cell_type": "code",
   "execution_count": 257,
   "id": "ba635db9",
   "metadata": {},
   "outputs": [],
   "source": [
    "C = torch.randn([27,10])\n",
    "\n",
    "W1 = torch.randn([30,200])\n",
    "b1 = torch.randn(200)\n",
    "\n",
    "W2 = torch.randn((200,27))\n",
    "b2 = torch.randn(27)\n",
    "\n",
    "parameters = [C, W1, b1, W2, b2]\n",
    "for p in parameters:\n",
    "    p.requires_grad = True"
   ]
  },
  {
   "cell_type": "code",
   "execution_count": 258,
   "id": "e5d00daa",
   "metadata": {},
   "outputs": [],
   "source": [
    "#lrs = 10**torch.linspace(-3,0,1000)\n",
    "#lrs.shape"
   ]
  },
  {
   "cell_type": "code",
   "execution_count": 277,
   "id": "bab7f6dd",
   "metadata": {},
   "outputs": [],
   "source": [
    "loss_t = []\n",
    "\n",
    "for i in range(60000):\n",
    "    x_inds = torch.randint(0, X_train.shape[0], (32,))\n",
    "    \n",
    "    raw_emb = C[X[x_inds]]\n",
    "    emb = raw_emb.view(raw_emb.shape[0],30)\n",
    "    h1 = torch.tanh(emb @ W1 + b1)\n",
    "    logits = h1 @ W2 + b2\n",
    "    loss = F.cross_entropy(logits, Y_train[x_inds])\n",
    "    \n",
    "    #loss_t.append(loss.item())\n",
    "    \n",
    "    for p in parameters:\n",
    "        p.grad = None\n",
    "        \n",
    "    loss.backward()\n",
    "    \n",
    "    for p in parameters:\n",
    "        #p.data += -lrs[i] * p.grad\n",
    "        p.data += -0.01 * p.grad"
   ]
  },
  {
   "cell_type": "code",
   "execution_count": 278,
   "id": "e1605fe1",
   "metadata": {},
   "outputs": [
    {
     "data": {
      "text/plain": [
       "tensor(2.8255, grad_fn=<NllLossBackward0>)"
      ]
     },
     "execution_count": 278,
     "metadata": {},
     "output_type": "execute_result"
    }
   ],
   "source": [
    "x_inds = np.arange(X_train.shape[0])\n",
    "raw_emb = C[X[x_inds]]\n",
    "emb = raw_emb.view(raw_emb.shape[0],30)\n",
    "h1 = torch.tanh(emb @ W1 + b1)\n",
    "logits = h1 @ W2 + b2\n",
    "loss = F.cross_entropy(logits, Y_train[x_inds])\n",
    "loss"
   ]
  },
  {
   "cell_type": "code",
   "execution_count": 279,
   "id": "7b3bbfb9",
   "metadata": {},
   "outputs": [],
   "source": [
    "#plt.plot(lrs, loss_t)\n",
    "#plt.plot(np.arange(10000),loss_t)"
   ]
  },
  {
   "cell_type": "code",
   "execution_count": 280,
   "id": "ccf4f880",
   "metadata": {},
   "outputs": [
    {
     "data": {
      "text/plain": [
       "tensor(2.8457, grad_fn=<NllLossBackward0>)"
      ]
     },
     "execution_count": 280,
     "metadata": {},
     "output_type": "execute_result"
    }
   ],
   "source": [
    "x_inds = np.arange(X_val.shape[0])\n",
    "raw_emb = C[X[x_inds]]\n",
    "emb = raw_emb.view(raw_emb.shape[0],30)\n",
    "h1 = torch.tanh(emb @ W1 + b1)\n",
    "logits = h1 @ W2 + b2\n",
    "loss = F.cross_entropy(logits, Y_val[x_inds])\n",
    "loss"
   ]
  },
  {
   "cell_type": "code",
   "execution_count": null,
   "id": "99e7a5e7",
   "metadata": {},
   "outputs": [],
   "source": []
  }
 ],
 "metadata": {
  "celltoolbar": "Raw Cell Format",
  "kernelspec": {
   "display_name": "Python 3 (ipykernel)",
   "language": "python",
   "name": "python3"
  },
  "language_info": {
   "codemirror_mode": {
    "name": "ipython",
    "version": 3
   },
   "file_extension": ".py",
   "mimetype": "text/x-python",
   "name": "python",
   "nbconvert_exporter": "python",
   "pygments_lexer": "ipython3",
   "version": "3.11.4"
  }
 },
 "nbformat": 4,
 "nbformat_minor": 5
}
