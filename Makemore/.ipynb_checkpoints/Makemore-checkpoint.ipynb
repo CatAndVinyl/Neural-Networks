{
 "cells": [
  {
   "cell_type": "code",
   "execution_count": 1,
   "id": "43400a1c",
   "metadata": {},
   "outputs": [],
   "source": [
    "import torch\n",
    "import torch.nn.functional as F\n",
    "words = open(\"names.txt\", 'r').read().splitlines()"
   ]
  },
  {
   "cell_type": "code",
   "execution_count": 2,
   "id": "ef5ead44",
   "metadata": {},
   "outputs": [],
   "source": [
    "N = torch.zeros((27,27), dtype=torch.int32)\n",
    "chars = sorted(list(set(''.join(words))))\n",
    "c_to_i = {c:i+1 for i,c in enumerate(chars)}\n",
    "c_to_i['.'] = 0\n",
    "i_to_c = {i+1:c for i,c in enumerate(chars)}\n",
    "i_to_c[0] = '.'"
   ]
  },
  {
   "cell_type": "code",
   "execution_count": 3,
   "id": "452992c6",
   "metadata": {},
   "outputs": [],
   "source": [
    "for word in words:\n",
    "    chs = ['.'] + list(word) + ['.']\n",
    "    for c1, c2 in zip(chs, chs[1:]):\n",
    "        N[c_to_i[c1]][c_to_i[c2]] += 1"
   ]
  },
  {
   "cell_type": "code",
   "execution_count": 4,
   "id": "c7c38539",
   "metadata": {},
   "outputs": [
    {
     "name": "stdout",
     "output_type": "stream",
     "text": [
      "tensor([   0, 6640,  114,   97,  516, 3983,   80,  108, 2409, 2489,   71,  363,\n",
      "        1314,  516, 6763,  855,   33,   28, 1377, 1169,  483,  155,   88,   51,\n",
      "         164, 2007,  160], dtype=torch.int32)\n",
      "{1: 'a', 2: 'b', 3: 'c', 4: 'd', 5: 'e', 6: 'f', 7: 'g', 8: 'h', 9: 'i', 10: 'j', 11: 'k', 12: 'l', 13: 'm', 14: 'n', 15: 'o', 16: 'p', 17: 'q', 18: 'r', 19: 's', 20: 't', 21: 'u', 22: 'v', 23: 'w', 24: 'x', 25: 'y', 26: 'z', 0: '.'}\n"
     ]
    }
   ],
   "source": [
    "print(N[:,0])\n",
    "print(i_to_c)"
   ]
  },
  {
   "cell_type": "code",
   "execution_count": 5,
   "id": "39dcaef5",
   "metadata": {},
   "outputs": [],
   "source": [
    "P = (N+1).float()\n",
    "P /= P.sum(1, True)"
   ]
  },
  {
   "cell_type": "code",
   "execution_count": 6,
   "id": "c99fd370",
   "metadata": {},
   "outputs": [
    {
     "name": "stdout",
     "output_type": "stream",
     "text": [
      "kauwanax\n",
      "eijan\n",
      "danin\n",
      "sol\n",
      "lidetoma\n",
      "tie\n",
      "al\n",
      "sala\n",
      "e\n",
      "shamele\n"
     ]
    }
   ],
   "source": [
    "#generate 1 name\n",
    "gen = torch.Generator().manual_seed(25)\n",
    "for i in range(10):\n",
    "    x = 0\n",
    "    chr_list = []\n",
    "    while (len(chr_list) == 0 or x != 0):\n",
    "        x = torch.multinomial(P[x], 1, True, generator=gen).item()\n",
    "        chr_list.append(i_to_c[x])\n",
    "    chr_list.pop()\n",
    "    name = ''.join(chr_list)\n",
    "    print(name)"
   ]
  },
  {
   "cell_type": "code",
   "execution_count": 47,
   "id": "209f2a61",
   "metadata": {},
   "outputs": [],
   "source": [
    "x_train = []\n",
    "y_train = []\n",
    "\n",
    "for word in words:\n",
    "    chrs = ['.'] + list(word) + ['.']\n",
    "    for chr1, chr2 in zip(chrs, chrs[1:]):\n",
    "        x_train.append(c_to_i[chr1])\n",
    "        y_train.append(c_to_i[chr2])\n",
    "\n",
    "x_train = F.one_hot(torch.tensor(x_train), 27).float()\n",
    "y_train = torch.tensor(y_train)"
   ]
  },
  {
   "cell_type": "code",
   "execution_count": 98,
   "id": "5705d6fe",
   "metadata": {},
   "outputs": [
    {
     "name": "stdout",
     "output_type": "stream",
     "text": [
      "3.403341293334961\n",
      "tensor([[0.0568, 0.0272, 0.0548,  ..., 0.0074, 0.0551, 0.0399],\n",
      "        [0.1253, 0.0393, 0.0187,  ..., 0.0231, 0.0108, 0.0215],\n",
      "        [0.0352, 0.0191, 0.0199,  ..., 0.0193, 0.0518, 0.0997],\n",
      "        ...,\n",
      "        [0.0067, 0.0507, 0.0391,  ..., 0.0074, 0.1066, 0.0280],\n",
      "        [0.0036, 0.0184, 0.1180,  ..., 0.0129, 0.0279, 0.0115],\n",
      "        [0.0385, 0.0289, 0.0429,  ..., 0.0505, 0.0141, 0.0481]],\n",
      "       grad_fn=<DivBackward0>)\n"
     ]
    }
   ],
   "source": [
    "weights = torch.randn((27,27), requires_grad=True)\n",
    "\n",
    "loss\n",
    "for i in range(10):\n",
    "    raw_activations = (x_train @ weights)\n",
    "    exp_activations = raw_activations.exp()\n",
    "    prob = exp_activations / exp_activations.sum(1, True)\n",
    "    \n",
    "    loss = -prob[torch.arange(len(prob)), y_train].log().mean()\n",
    "    weights.grad = None\n",
    "    loss.backward()\n",
    "    weights.data += -5.0 * weights.grad\n",
    "    \n",
    "print(loss.item())\n",
    "print(prob)"
   ]
  },
  {
   "cell_type": "code",
   "execution_count": 99,
   "id": "af623091",
   "metadata": {},
   "outputs": [
    {
     "name": "stdout",
     "output_type": "stream",
     "text": [
      "xfbggggkanfbuzi.\n",
      "tffgfpnucyvdtoyyzwcgglwfswteahhsxgbyynumzkmxyzfvysgei.\n",
      "ychtchcpmlwcbmkmobulpwtoqqt.\n",
      "bkpe.\n",
      "ihodears.\n",
      "jqjyalrmhvhftcfyqnhs.\n",
      "jkpjamvlhqvuezwcqvuzbgykcfovvivqpdatowacpxifk.\n",
      "bkroyhhcbmlwpkqqsjrwoxginuromuypnulltctwjjditcqsxfxgrepfylfhtqqlrb.\n",
      "zwpyuzrefitqdgnuychfyml.\n",
      "zmgrulobawcsvqpn.\n"
     ]
    }
   ],
   "source": [
    "for i in range(10):\n",
    "    x = 0\n",
    "    chr_list = []\n",
    "    while (len(chr_list) == 0 or x != 0):\n",
    "        x_val = (F.one_hot(torch.tensor([x]), num_classes = 27).float() @ weights).exp()\n",
    "        p = x_val / x_val.sum(1, True)\n",
    "        x = torch.multinomial(p, 1, True, generator=gen).item()\n",
    "        chr_list.append(i_to_c[x])\n",
    "    name = ''.join(chr_list)\n",
    "    print(name)"
   ]
  },
  {
   "cell_type": "code",
   "execution_count": 100,
   "id": "88088f68",
   "metadata": {},
   "outputs": [
    {
     "data": {
      "text/plain": [
       "torch.Size([228146, 27])"
      ]
     },
     "execution_count": 100,
     "metadata": {},
     "output_type": "execute_result"
    }
   ],
   "source": [
    "prob.shape"
   ]
  },
  {
   "cell_type": "code",
   "execution_count": null,
   "id": "5c4a570b",
   "metadata": {},
   "outputs": [],
   "source": []
  }
 ],
 "metadata": {
  "celltoolbar": "Raw Cell Format",
  "kernelspec": {
   "display_name": "Python 3 (ipykernel)",
   "language": "python",
   "name": "python3"
  },
  "language_info": {
   "codemirror_mode": {
    "name": "ipython",
    "version": 3
   },
   "file_extension": ".py",
   "mimetype": "text/x-python",
   "name": "python",
   "nbconvert_exporter": "python",
   "pygments_lexer": "ipython3",
   "version": "3.11.4"
  }
 },
 "nbformat": 4,
 "nbformat_minor": 5
}
